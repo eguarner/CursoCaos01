{
 "metadata": {
  "name": ""
 },
 "nbformat": 3,
 "nbformat_minor": 0,
 "worksheets": [
  {
   "cells": [
    {
     "cell_type": "markdown",
     "metadata": {},
     "source": [
      "Pendulo simple y Doble. Integramos las ecuaciones de Hamilton, probablemente lo mas simple.\n"
     ]
    },
    {
     "cell_type": "code",
     "collapsed": false,
     "input": [
      "m=1\n",
      "r=1"
     ],
     "language": "python",
     "metadata": {},
     "outputs": [],
     "prompt_number": 1
    },
    {
     "cell_type": "code",
     "collapsed": false,
     "input": [
      "import numpy as np\n",
      "\n",
      "dospi=2*np.pi\n",
      "grav=9.8\n",
      "\n",
      "class Pendulo:\n",
      "    \"\"\" Una particula simplectica que empieca en algun lugar del\n",
      "    intervalo 0 a 2*pi  y recibe patadas. \"\"\"\n",
      "    def __init__(self, init_q=0.719102,\n",
      "                 init_p=0.181):\n",
      "        self.init_q=init_q\n",
      "        self.init_p=init_p\n",
      "        self.q=self.init_q\n",
      "        self.p=self.init_p\n",
      "\n",
      "    def step(self, dt):\n",
      "        self.p=self.p-grav*np.sin(self.q)*dt\n",
      "        self.q=np.fmod(self.q+self.p*dt,dospi)\n",
      "        if(self.q<0):\n",
      "            self.q+=dospi\n"
     ],
     "language": "python",
     "metadata": {},
     "outputs": [],
     "prompt_number": 5
    },
    {
     "cell_type": "code",
     "collapsed": false,
     "input": [
      "numparticles=200\n",
      "tmax=200\n",
      "dt=0.01\n",
      "archivo=open(\"EspacioFasePendulo01.dat\", \"w\")"
     ],
     "language": "python",
     "metadata": {},
     "outputs": [],
     "prompt_number": 42
    },
    {
     "cell_type": "code",
     "collapsed": false,
     "input": [
      "for i in range(1,numparticles):\n",
      "    q=np.random.uniform(0, dospi)\n",
      "    p=np.random.uniform(-8.0, 8.0)\n",
      "    Punto=Pendulo(q,p)\n",
      "    for j in range(1,tmax):\n",
      "        Punto.step(dt)\n",
      "        print(Punto.q, Punto.p, j, i, file=archivo)"
     ],
     "language": "python",
     "metadata": {},
     "outputs": [],
     "prompt_number": 43
    },
    {
     "cell_type": "code",
     "collapsed": false,
     "input": [
      "archivo.close()"
     ],
     "language": "python",
     "metadata": {},
     "outputs": [],
     "prompt_number": 44
    },
    {
     "cell_type": "code",
     "collapsed": false,
     "input": [],
     "language": "python",
     "metadata": {},
     "outputs": []
    }
   ],
   "metadata": {}
  }
 ]
}